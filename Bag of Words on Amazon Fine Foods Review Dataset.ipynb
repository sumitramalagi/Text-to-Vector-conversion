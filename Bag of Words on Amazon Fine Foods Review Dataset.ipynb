{
 "cells": [
  {
   "cell_type": "markdown",
   "metadata": {},
   "source": [
    "# Bag of Words on Amazon Food review Dataset"
   ]
  },
  {
   "cell_type": "markdown",
   "metadata": {},
   "source": [
    "Bag of Words machine learning algorithm that can be used to convert text data to vector.\n",
    "Amazon fine foods review dataset is available on kaggle. (https://www.kaggle.com/snap/amazon-fine-food-reviews)\n",
    "\n",
    "In this ipython notebook,I have performed the following steps:\n",
    "    1. Loading data and assigning polarity\n",
    "    2. Data cleaning by removing duplicate enteries and invalid information \n",
    "    3. Sort the data and sample it.\n",
    "    4. Data Preprocessing:\n",
    "        a.removing stop words\n",
    "        b.removing punctuations and html tags if any\n",
    "        c.stemming\n",
    "        d.convert all words to lower case\n",
    "    5.Split data into train and test. \n",
    "    6.Vectorize reviews using Bag of Words.Save this data.\n",
    "   "
   ]
  },
  {
   "cell_type": "markdown",
   "metadata": {},
   "source": [
    "1.Load data and assign polarity to reviews"
   ]
  },
  {
   "cell_type": "code",
   "execution_count": 1,
   "metadata": {},
   "outputs": [],
   "source": [
    "%matplotlib inline\n",
    "\n",
    "import sqlite3\n",
    "import pandas as pd\n",
    "import numpy as np\n",
    "import warnings\n",
    "warnings.filterwarnings(\"ignore\")\n",
    "\n",
    "# using the SQLite Table to read data.\n",
    "con = sqlite3.connect(r'C:\\Users\\Admin\\Downloads\\database.sqlite')\n",
    "\n",
    "\n",
    "#Reading reviews that can be classified as positive or negative\n",
    "review_data = pd.read_sql_query(\"\"\"\n",
    "SELECT *\n",
    "FROM Reviews\n",
    "WHERE Score != 3\"\"\", con) \n",
    "\n",
    "\n",
    "# Give reviews with Score>3 a positive rating, and reviews with a score<3 a negative rating.\n",
    "def partition(x):\n",
    "    if x < 3:\n",
    "        return 0\n",
    "    return 1\n",
    "\n",
    "#changing reviews with score greater than 3 to be positive and vice-versa\n",
    "review_data['Score'] = review_data['Score'].map(partition)"
   ]
  },
  {
   "cell_type": "markdown",
   "metadata": {},
   "source": [
    "2.Data Cleaning"
   ]
  },
  {
   "cell_type": "code",
   "execution_count": 2,
   "metadata": {},
   "outputs": [],
   "source": [
    "review_data =  review_data.drop_duplicates(subset={'UserId','ProfileName','Time','Text'},keep='first')"
   ]
  },
  {
   "cell_type": "code",
   "execution_count": 3,
   "metadata": {},
   "outputs": [],
   "source": [
    "cleaned_data = review_data[review_data.HelpfulnessNumerator <= review_data.HelpfulnessDenominator]"
   ]
  },
  {
   "cell_type": "markdown",
   "metadata": {},
   "source": [
    "3.Data sampling"
   ]
  },
  {
   "cell_type": "code",
   "execution_count": 4,
   "metadata": {
    "scrolled": true
   },
   "outputs": [],
   "source": [
    "cleaned_data.sort_values('Time',inplace=True,ascending=False) \n",
    "#sampled_data = cleaned_data.sample(frac=0.275,random_state=1), time series split function can also be used.\n",
    "sampled_data=cleaned_data[0:100000]"
   ]
  },
  {
   "cell_type": "markdown",
   "metadata": {},
   "source": [
    "4.Data preprocessing"
   ]
  },
  {
   "cell_type": "code",
   "execution_count": 5,
   "metadata": {},
   "outputs": [],
   "source": [
    "import re\n",
    "import string\n",
    "import nltk\n",
    "#nltk.download('stopwords')\n",
    "from nltk.corpus import stopwords\n",
    "from nltk.stem import PorterStemmer\n",
    "from nltk.stem.wordnet import WordNetLemmatizer\n",
    "\n",
    "stop = set(stopwords.words('english')) #set of stopwords\n",
    "sno = nltk.stem.SnowballStemmer('english') #initialising the snowball stemmer\n",
    "\n",
    "def cleanhtml(sentence): #function to clean the word of any html-tags\n",
    "    cleanr = re.compile('<.*?>')\n",
    "    cleantext = re.sub(cleanr, ' ', sentence)\n",
    "    return cleantext\n",
    "def cleanpunc(sentence): #function to clean the word of any punctuation or special characters\n",
    "    cleaned = re.sub(r'[?|!|\\'|\"|#]',r'',sentence)\n",
    "    cleaned = re.sub(r'[.|,|)|(|\\|/]',r' ',cleaned)\n",
    "    return  cleaned"
   ]
  },
  {
   "cell_type": "code",
   "execution_count": 6,
   "metadata": {},
   "outputs": [],
   "source": [
    " i=0\n",
    "str1=' '\n",
    "final_string=[]\n",
    "s=''\n",
    "for sent in sampled_data['Text'].values:\n",
    "    filtered_sentence=[]\n",
    "    sent=cleanhtml(sent) # remove HTMl tags\n",
    "    for w in sent.split():\n",
    "        for cleaned_words in cleanpunc(w).split():\n",
    "            if((cleaned_words.isalpha()) & (len(cleaned_words)>2)):    \n",
    "                if(cleaned_words.lower() not in stop):\n",
    "                    s=(sno.stem(cleaned_words.lower())).encode('utf8')\n",
    "                    filtered_sentence.append(s)\n",
    "                else:\n",
    "                    continue\n",
    "            else:\n",
    "                continue \n",
    "\n",
    "    str1 = b\" \".join(filtered_sentence) #final string of cleaned words \n",
    "    final_string.append(str1)"
   ]
  },
  {
   "cell_type": "code",
   "execution_count": 7,
   "metadata": {
    "scrolled": true
   },
   "outputs": [],
   "source": [
    "sampled_data['CleanedText']=final_string"
   ]
  },
  {
   "cell_type": "markdown",
   "metadata": {},
   "source": [
    "5.Split data into train and test"
   ]
  },
  {
   "cell_type": "code",
   "execution_count": 8,
   "metadata": {},
   "outputs": [],
   "source": [
    "#We use 70% of data for training and 30% of data for test\n",
    "import math\n",
    "sampled_data.sort_values('Time',inplace=True,ascending=True) \n",
    "\n",
    "X_train =  sampled_data[:math.ceil(len(sampled_data)*.7)] \n",
    "X_test = sampled_data[math.ceil(len(sampled_data)*.3):]\n",
    "y_train = sampled_data['Score'][:math.ceil(len(sampled_data)*.7)]\n",
    "y_test =  sampled_data['Score'][math.ceil(len(sampled_data)*.3):]"
   ]
  },
  {
   "cell_type": "markdown",
   "metadata": {},
   "source": [
    "6.Convert text to vector"
   ]
  },
  {
   "cell_type": "markdown",
   "metadata": {},
   "source": [
    "Bag of words"
   ]
  },
  {
   "cell_type": "code",
   "execution_count": 9,
   "metadata": {},
   "outputs": [],
   "source": [
    "from sklearn.feature_extraction.text import CountVectorizer\n",
    "\n",
    "count_vect = CountVectorizer() \n",
    "bow_model = count_vect.fit(X_train['CleanedText'])\n",
    "final_bow_train = bow_model.transform(X_train['CleanedText'])\n",
    "final_bow_test = bow_model.transform(X_test['CleanedText'])"
   ]
  },
  {
   "cell_type": "code",
   "execution_count": 10,
   "metadata": {},
   "outputs": [],
   "source": [
    "from sklearn.preprocessing import StandardScaler\n",
    "\n",
    "normalised_bow_train = StandardScaler(with_mean=False).fit_transform(final_bow_train)\n",
    "normalised_bow_test = StandardScaler(with_mean=False).fit_transform(final_bow_test)"
   ]
  },
  {
   "cell_type": "code",
   "execution_count": 13,
   "metadata": {},
   "outputs": [],
   "source": [
    "import scipy.sparse\n",
    "scipy.sparse.save_npz('bow_train.npz', normalised_bow_train)\n",
    "#final_bow_train1 = scipy.sparse.load_npz('bow_train.npz')\n",
    "scipy.sparse.save_npz('bow_test.npz', normalised_bow_test)\n",
    "#final_bow_test1 = scipy.sparse.load_npz('bow_test.npz')"
   ]
  },
  {
   "cell_type": "code",
   "execution_count": null,
   "metadata": {},
   "outputs": [],
   "source": []
  }
 ],
 "metadata": {
  "kernelspec": {
   "display_name": "Python 3",
   "language": "python",
   "name": "python3"
  },
  "language_info": {
   "codemirror_mode": {
    "name": "ipython",
    "version": 3
   },
   "file_extension": ".py",
   "mimetype": "text/x-python",
   "name": "python",
   "nbconvert_exporter": "python",
   "pygments_lexer": "ipython3",
   "version": "3.6.4"
  }
 },
 "nbformat": 4,
 "nbformat_minor": 2
}
